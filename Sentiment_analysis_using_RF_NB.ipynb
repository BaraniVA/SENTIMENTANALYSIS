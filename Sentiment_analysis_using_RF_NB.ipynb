{
 "cells": [
  {
   "cell_type": "code",
   "execution_count": 1,
   "id": "6290209a-9c7f-4446-b294-3a32fb956bb8",
   "metadata": {},
   "outputs": [],
   "source": [
    "# Importing necessary libraries\n",
    "import pandas as pd\n",
    "import numpy as np\n",
    "import seaborn as sns\n",
    "import matplotlib.pyplot as plt\n",
    "import joblib\n",
    "from sklearn.feature_extraction.text import TfidfVectorizer\n",
    "from sklearn.model_selection import train_test_split\n",
    "from sklearn.ensemble import RandomForestClassifier\n",
    "from sklearn.metrics import accuracy_score, classification_report, confusion_matrix\n",
    "from sklearn.naive_bayes import MultinomialNB\n",
    "from sklearn.utils import shuffle\n"
   ]
  },
  {
   "cell_type": "code",
   "execution_count": 2,
   "id": "be3a1478-87af-4f23-82a6-0803c2b1556b",
   "metadata": {},
   "outputs": [
    {
     "data": {
      "text/html": [
       "<div>\n",
       "<style scoped>\n",
       "    .dataframe tbody tr th:only-of-type {\n",
       "        vertical-align: middle;\n",
       "    }\n",
       "\n",
       "    .dataframe tbody tr th {\n",
       "        vertical-align: top;\n",
       "    }\n",
       "\n",
       "    .dataframe thead th {\n",
       "        text-align: right;\n",
       "    }\n",
       "</style>\n",
       "<table border=\"1\" class=\"dataframe\">\n",
       "  <thead>\n",
       "    <tr style=\"text-align: right;\">\n",
       "      <th></th>\n",
       "      <th>name</th>\n",
       "      <th>userName</th>\n",
       "      <th>content</th>\n",
       "      <th>score</th>\n",
       "      <th>thumbsUpCount</th>\n",
       "      <th>reviewCreatedVersion</th>\n",
       "      <th>at</th>\n",
       "      <th>replyContent</th>\n",
       "      <th>repliedAt</th>\n",
       "      <th>sortOrder</th>\n",
       "      <th>appId</th>\n",
       "    </tr>\n",
       "  </thead>\n",
       "  <tbody>\n",
       "    <tr>\n",
       "      <th>0</th>\n",
       "      <td>WhiteHatJr</td>\n",
       "      <td>All in one Captions</td>\n",
       "      <td>I was very unhappy with this app because I can...</td>\n",
       "      <td>1</td>\n",
       "      <td>1234</td>\n",
       "      <td>1.5.1</td>\n",
       "      <td>2020-09-18 09:21:07</td>\n",
       "      <td>Hi! Thank you for reviewing. Kindly note that ...</td>\n",
       "      <td>2020-09-18 11:58:46</td>\n",
       "      <td>most_relevant</td>\n",
       "      <td>com.whitehatjr</td>\n",
       "    </tr>\n",
       "    <tr>\n",
       "      <th>1</th>\n",
       "      <td>WhiteHatJr</td>\n",
       "      <td>githin george</td>\n",
       "      <td>Come on! Man it's not normal for kids to devel...</td>\n",
       "      <td>1</td>\n",
       "      <td>213</td>\n",
       "      <td>1.5.2</td>\n",
       "      <td>2020-09-30 14:34:38</td>\n",
       "      <td>Hi, Thank you for reviewing and sharing your p...</td>\n",
       "      <td>2020-09-30 16:01:39</td>\n",
       "      <td>most_relevant</td>\n",
       "      <td>com.whitehatjr</td>\n",
       "    </tr>\n",
       "    <tr>\n",
       "      <th>2</th>\n",
       "      <td>WhiteHatJr</td>\n",
       "      <td>Anita Choudhury</td>\n",
       "      <td>This app is good for coding but I think this o...</td>\n",
       "      <td>1</td>\n",
       "      <td>156</td>\n",
       "      <td>1.5.1</td>\n",
       "      <td>2020-09-17 17:50:57</td>\n",
       "      <td>Hi! We apologize for the inconvenience. We wou...</td>\n",
       "      <td>2020-09-17 17:59:10</td>\n",
       "      <td>most_relevant</td>\n",
       "      <td>com.whitehatjr</td>\n",
       "    </tr>\n",
       "    <tr>\n",
       "      <th>3</th>\n",
       "      <td>WhiteHatJr</td>\n",
       "      <td>Snehil gupta</td>\n",
       "      <td>This app is good for coding but I think this o...</td>\n",
       "      <td>1</td>\n",
       "      <td>82</td>\n",
       "      <td>1.5.2</td>\n",
       "      <td>2020-10-09 21:10:06</td>\n",
       "      <td>Hi, Thank you for reviewing. Please be apprise...</td>\n",
       "      <td>2020-10-10 10:35:40</td>\n",
       "      <td>most_relevant</td>\n",
       "      <td>com.whitehatjr</td>\n",
       "    </tr>\n",
       "    <tr>\n",
       "      <th>4</th>\n",
       "      <td>WhiteHatJr</td>\n",
       "      <td>UTKALIKA PRUSTI</td>\n",
       "      <td>It is good app . But it's app use only who has...</td>\n",
       "      <td>1</td>\n",
       "      <td>150</td>\n",
       "      <td>1.5.1</td>\n",
       "      <td>2020-09-21 05:27:50</td>\n",
       "      <td>Hi! Thank you for reviewing. Kindly note that ...</td>\n",
       "      <td>2020-09-21 10:46:15</td>\n",
       "      <td>most_relevant</td>\n",
       "      <td>com.whitehatjr</td>\n",
       "    </tr>\n",
       "  </tbody>\n",
       "</table>\n",
       "</div>"
      ],
      "text/plain": [
       "         name             userName  \\\n",
       "0  WhiteHatJr  All in one Captions   \n",
       "1  WhiteHatJr        githin george   \n",
       "2  WhiteHatJr      Anita Choudhury   \n",
       "3  WhiteHatJr         Snehil gupta   \n",
       "4  WhiteHatJr      UTKALIKA PRUSTI   \n",
       "\n",
       "                                             content  score  thumbsUpCount  \\\n",
       "0  I was very unhappy with this app because I can...      1           1234   \n",
       "1  Come on! Man it's not normal for kids to devel...      1            213   \n",
       "2  This app is good for coding but I think this o...      1            156   \n",
       "3  This app is good for coding but I think this o...      1             82   \n",
       "4  It is good app . But it's app use only who has...      1            150   \n",
       "\n",
       "  reviewCreatedVersion                   at  \\\n",
       "0                1.5.1  2020-09-18 09:21:07   \n",
       "1                1.5.2  2020-09-30 14:34:38   \n",
       "2                1.5.1  2020-09-17 17:50:57   \n",
       "3                1.5.2  2020-10-09 21:10:06   \n",
       "4                1.5.1  2020-09-21 05:27:50   \n",
       "\n",
       "                                        replyContent            repliedAt  \\\n",
       "0  Hi! Thank you for reviewing. Kindly note that ...  2020-09-18 11:58:46   \n",
       "1  Hi, Thank you for reviewing and sharing your p...  2020-09-30 16:01:39   \n",
       "2  Hi! We apologize for the inconvenience. We wou...  2020-09-17 17:59:10   \n",
       "3  Hi, Thank you for reviewing. Please be apprise...  2020-10-10 10:35:40   \n",
       "4  Hi! Thank you for reviewing. Kindly note that ...  2020-09-21 10:46:15   \n",
       "\n",
       "       sortOrder           appId  \n",
       "0  most_relevant  com.whitehatjr  \n",
       "1  most_relevant  com.whitehatjr  \n",
       "2  most_relevant  com.whitehatjr  \n",
       "3  most_relevant  com.whitehatjr  \n",
       "4  most_relevant  com.whitehatjr  "
      ]
     },
     "execution_count": 2,
     "metadata": {},
     "output_type": "execute_result"
    }
   ],
   "source": [
    "# Load the dataset\n",
    "data = pd.read_csv('C:/Users/baran/OneDrive/Desktop/New folder (2)/kaggle/app_reviews.csv')\n",
    "\n",
    "# Displaying the first few rows of the dataset to understand its structure\n",
    "data.head()"
   ]
  },
  {
   "cell_type": "code",
   "execution_count": 3,
   "id": "91df0e45-d480-4c89-b976-95734825a018",
   "metadata": {},
   "outputs": [
    {
     "name": "stdout",
     "output_type": "stream",
     "text": [
      "Missing values before preprocessing:\n",
      "name                       0\n",
      "userName                   0\n",
      "content                    1\n",
      "score                      0\n",
      "thumbsUpCount              0\n",
      "reviewCreatedVersion    2329\n",
      "at                         0\n",
      "replyContent            6276\n",
      "repliedAt               6276\n",
      "sortOrder                  0\n",
      "appId                      0\n",
      "dtype: int64\n"
     ]
    }
   ],
   "source": [
    "# Check for missing values\n",
    "print(\"Missing values before preprocessing:\")\n",
    "print(data.isnull().sum())"
   ]
  },
  {
   "cell_type": "code",
   "execution_count": 4,
   "id": "2a5a81a9-a957-456f-a67c-fa54f13e8bd5",
   "metadata": {},
   "outputs": [],
   "source": [
    "# Drop rows with missing values in the 'content' and 'score' columns\n",
    "data = data.dropna(subset=['content', 'score'])"
   ]
  },
  {
   "cell_type": "code",
   "execution_count": 5,
   "id": "3a88cdca-2311-4395-98d1-78edf5f6492f",
   "metadata": {},
   "outputs": [
    {
     "name": "stdout",
     "output_type": "stream",
     "text": [
      "Missing values before preprocessing:\n",
      "name                       0\n",
      "userName                   0\n",
      "content                    0\n",
      "score                      0\n",
      "thumbsUpCount              0\n",
      "reviewCreatedVersion    2329\n",
      "at                         0\n",
      "replyContent            6275\n",
      "repliedAt               6275\n",
      "sortOrder                  0\n",
      "appId                      0\n",
      "dtype: int64\n"
     ]
    }
   ],
   "source": [
    "# Check for missing values\n",
    "print(\"Missing values before preprocessing:\")\n",
    "print(data.isnull().sum())"
   ]
  },
  {
   "cell_type": "code",
   "execution_count": 6,
   "id": "978d68f4-a665-4e80-a693-040136477920",
   "metadata": {},
   "outputs": [],
   "source": [
    "# Convert 'score' to binary sentiment label\n",
    "data['sentiment'] = np.where(data['score'] > 3, 'Positive', 'Negative')"
   ]
  },
  {
   "cell_type": "code",
   "execution_count": 7,
   "id": "39125383-865e-4c16-b2bf-db4baaeef642",
   "metadata": {},
   "outputs": [
    {
     "data": {
      "text/html": [
       "<div>\n",
       "<style scoped>\n",
       "    .dataframe tbody tr th:only-of-type {\n",
       "        vertical-align: middle;\n",
       "    }\n",
       "\n",
       "    .dataframe tbody tr th {\n",
       "        vertical-align: top;\n",
       "    }\n",
       "\n",
       "    .dataframe thead th {\n",
       "        text-align: right;\n",
       "    }\n",
       "</style>\n",
       "<table border=\"1\" class=\"dataframe\">\n",
       "  <thead>\n",
       "    <tr style=\"text-align: right;\">\n",
       "      <th></th>\n",
       "      <th>name</th>\n",
       "      <th>userName</th>\n",
       "      <th>content</th>\n",
       "      <th>score</th>\n",
       "      <th>thumbsUpCount</th>\n",
       "      <th>reviewCreatedVersion</th>\n",
       "      <th>at</th>\n",
       "      <th>replyContent</th>\n",
       "      <th>repliedAt</th>\n",
       "      <th>sortOrder</th>\n",
       "      <th>appId</th>\n",
       "      <th>sentiment</th>\n",
       "    </tr>\n",
       "  </thead>\n",
       "  <tbody>\n",
       "    <tr>\n",
       "      <th>0</th>\n",
       "      <td>WhiteHatJr</td>\n",
       "      <td>All in one Captions</td>\n",
       "      <td>I was very unhappy with this app because I can...</td>\n",
       "      <td>1</td>\n",
       "      <td>1234</td>\n",
       "      <td>1.5.1</td>\n",
       "      <td>2020-09-18 09:21:07</td>\n",
       "      <td>Hi! Thank you for reviewing. Kindly note that ...</td>\n",
       "      <td>2020-09-18 11:58:46</td>\n",
       "      <td>most_relevant</td>\n",
       "      <td>com.whitehatjr</td>\n",
       "      <td>Negative</td>\n",
       "    </tr>\n",
       "    <tr>\n",
       "      <th>1</th>\n",
       "      <td>WhiteHatJr</td>\n",
       "      <td>githin george</td>\n",
       "      <td>Come on! Man it's not normal for kids to devel...</td>\n",
       "      <td>1</td>\n",
       "      <td>213</td>\n",
       "      <td>1.5.2</td>\n",
       "      <td>2020-09-30 14:34:38</td>\n",
       "      <td>Hi, Thank you for reviewing and sharing your p...</td>\n",
       "      <td>2020-09-30 16:01:39</td>\n",
       "      <td>most_relevant</td>\n",
       "      <td>com.whitehatjr</td>\n",
       "      <td>Negative</td>\n",
       "    </tr>\n",
       "    <tr>\n",
       "      <th>2</th>\n",
       "      <td>WhiteHatJr</td>\n",
       "      <td>Anita Choudhury</td>\n",
       "      <td>This app is good for coding but I think this o...</td>\n",
       "      <td>1</td>\n",
       "      <td>156</td>\n",
       "      <td>1.5.1</td>\n",
       "      <td>2020-09-17 17:50:57</td>\n",
       "      <td>Hi! We apologize for the inconvenience. We wou...</td>\n",
       "      <td>2020-09-17 17:59:10</td>\n",
       "      <td>most_relevant</td>\n",
       "      <td>com.whitehatjr</td>\n",
       "      <td>Negative</td>\n",
       "    </tr>\n",
       "    <tr>\n",
       "      <th>3</th>\n",
       "      <td>WhiteHatJr</td>\n",
       "      <td>Snehil gupta</td>\n",
       "      <td>This app is good for coding but I think this o...</td>\n",
       "      <td>1</td>\n",
       "      <td>82</td>\n",
       "      <td>1.5.2</td>\n",
       "      <td>2020-10-09 21:10:06</td>\n",
       "      <td>Hi, Thank you for reviewing. Please be apprise...</td>\n",
       "      <td>2020-10-10 10:35:40</td>\n",
       "      <td>most_relevant</td>\n",
       "      <td>com.whitehatjr</td>\n",
       "      <td>Negative</td>\n",
       "    </tr>\n",
       "    <tr>\n",
       "      <th>4</th>\n",
       "      <td>WhiteHatJr</td>\n",
       "      <td>UTKALIKA PRUSTI</td>\n",
       "      <td>It is good app . But it's app use only who has...</td>\n",
       "      <td>1</td>\n",
       "      <td>150</td>\n",
       "      <td>1.5.1</td>\n",
       "      <td>2020-09-21 05:27:50</td>\n",
       "      <td>Hi! Thank you for reviewing. Kindly note that ...</td>\n",
       "      <td>2020-09-21 10:46:15</td>\n",
       "      <td>most_relevant</td>\n",
       "      <td>com.whitehatjr</td>\n",
       "      <td>Negative</td>\n",
       "    </tr>\n",
       "  </tbody>\n",
       "</table>\n",
       "</div>"
      ],
      "text/plain": [
       "         name             userName  \\\n",
       "0  WhiteHatJr  All in one Captions   \n",
       "1  WhiteHatJr        githin george   \n",
       "2  WhiteHatJr      Anita Choudhury   \n",
       "3  WhiteHatJr         Snehil gupta   \n",
       "4  WhiteHatJr      UTKALIKA PRUSTI   \n",
       "\n",
       "                                             content  score  thumbsUpCount  \\\n",
       "0  I was very unhappy with this app because I can...      1           1234   \n",
       "1  Come on! Man it's not normal for kids to devel...      1            213   \n",
       "2  This app is good for coding but I think this o...      1            156   \n",
       "3  This app is good for coding but I think this o...      1             82   \n",
       "4  It is good app . But it's app use only who has...      1            150   \n",
       "\n",
       "  reviewCreatedVersion                   at  \\\n",
       "0                1.5.1  2020-09-18 09:21:07   \n",
       "1                1.5.2  2020-09-30 14:34:38   \n",
       "2                1.5.1  2020-09-17 17:50:57   \n",
       "3                1.5.2  2020-10-09 21:10:06   \n",
       "4                1.5.1  2020-09-21 05:27:50   \n",
       "\n",
       "                                        replyContent            repliedAt  \\\n",
       "0  Hi! Thank you for reviewing. Kindly note that ...  2020-09-18 11:58:46   \n",
       "1  Hi, Thank you for reviewing and sharing your p...  2020-09-30 16:01:39   \n",
       "2  Hi! We apologize for the inconvenience. We wou...  2020-09-17 17:59:10   \n",
       "3  Hi, Thank you for reviewing. Please be apprise...  2020-10-10 10:35:40   \n",
       "4  Hi! Thank you for reviewing. Kindly note that ...  2020-09-21 10:46:15   \n",
       "\n",
       "       sortOrder           appId sentiment  \n",
       "0  most_relevant  com.whitehatjr  Negative  \n",
       "1  most_relevant  com.whitehatjr  Negative  \n",
       "2  most_relevant  com.whitehatjr  Negative  \n",
       "3  most_relevant  com.whitehatjr  Negative  \n",
       "4  most_relevant  com.whitehatjr  Negative  "
      ]
     },
     "execution_count": 7,
     "metadata": {},
     "output_type": "execute_result"
    }
   ],
   "source": [
    "data.head()"
   ]
  },
  {
   "cell_type": "code",
   "execution_count": 8,
   "id": "e0eb879c-5c12-4040-982d-3f2291beb8c4",
   "metadata": {},
   "outputs": [
    {
     "name": "stdout",
     "output_type": "stream",
     "text": [
      "\n",
      "Sentiment distribution:\n",
      "sentiment\n",
      "Negative    8714\n",
      "Positive    4399\n",
      "Name: count, dtype: int64\n"
     ]
    }
   ],
   "source": [
    "# Check the distribution of sentiments\n",
    "print(\"\\nSentiment distribution:\")\n",
    "print(data['sentiment'].value_counts())"
   ]
  },
  {
   "cell_type": "code",
   "execution_count": 9,
   "id": "b18d9523-56ea-403b-9308-045757a05c23",
   "metadata": {},
   "outputs": [
    {
     "name": "stdout",
     "output_type": "stream",
     "text": [
      "\n",
      "Sample of preprocessed data:\n",
      "                                             content  score sentiment\n",
      "0  I was very unhappy with this app because I can...      1  Negative\n",
      "1  Come on! Man it's not normal for kids to devel...      1  Negative\n",
      "2  This app is good for coding but I think this o...      1  Negative\n",
      "3  This app is good for coding but I think this o...      1  Negative\n",
      "4  It is good app . But it's app use only who has...      1  Negative\n"
     ]
    }
   ],
   "source": [
    "# Display the first few rows after preprocessing\n",
    "print(\"\\nSample of preprocessed data:\")\n",
    "print(data[['content', 'score', 'sentiment']].head())"
   ]
  },
  {
   "cell_type": "code",
   "execution_count": 10,
   "id": "940c94f4-60bc-4a3d-bbb4-15280912fcaa",
   "metadata": {},
   "outputs": [],
   "source": [
    "# Create TF-IDF vectorizer\n",
    "tfidf_vectorizer = TfidfVectorizer(max_features=5000)"
   ]
  },
  {
   "cell_type": "code",
   "execution_count": 11,
   "id": "9de125df-65ca-4b3d-a248-fc6706c630b5",
   "metadata": {},
   "outputs": [],
   "source": [
    "# Apply TF-IDF vectorization to 'content' column\n",
    "tfidf_features = tfidf_vectorizer.fit_transform(data['content'])"
   ]
  },
  {
   "cell_type": "code",
   "execution_count": 12,
   "id": "4aec3722-89a3-4c21-9d22-a36906a73227",
   "metadata": {},
   "outputs": [],
   "source": [
    "# Convert sparse matrix to DataFrame for easier handling\n",
    "tfidf_df = pd.DataFrame(tfidf_features.toarray(), columns=tfidf_vectorizer.get_feature_names_out())"
   ]
  },
  {
   "cell_type": "code",
   "execution_count": 13,
   "id": "85bef0d3-0b3c-40ce-b6ad-4a06fab13f56",
   "metadata": {},
   "outputs": [
    {
     "name": "stdout",
     "output_type": "stream",
     "text": [
      "\n",
      "TF-IDF matrix:\n",
      "    00  000   09   10  100  1000  1005  1080p  10th   11  ...  वजह  सबम  समय  \\\n",
      "0  0.0  0.0  0.0  0.0  0.0   0.0   0.0    0.0   0.0  0.0  ...  0.0  0.0  0.0   \n",
      "1  0.0  0.0  0.0  0.0  0.0   0.0   0.0    0.0   0.0  0.0  ...  0.0  0.0  0.0   \n",
      "2  0.0  0.0  0.0  0.0  0.0   0.0   0.0    0.0   0.0  0.0  ...  0.0  0.0  0.0   \n",
      "3  0.0  0.0  0.0  0.0  0.0   0.0   0.0    0.0   0.0  0.0  ...  0.0  0.0  0.0   \n",
      "4  0.0  0.0  0.0  0.0  0.0   0.0   0.0    0.0   0.0  0.0  ...  0.0  0.0  0.0   \n",
      "\n",
      "    हम   එය   මට  𝘨𝘦𝘵𝘵𝘪𝘯𝘨   𝘪𝘴   𝘪𝘵  𝘸𝘰𝘳𝘴𝘵  \n",
      "0  0.0  0.0  0.0      0.0  0.0  0.0    0.0  \n",
      "1  0.0  0.0  0.0      0.0  0.0  0.0    0.0  \n",
      "2  0.0  0.0  0.0      0.0  0.0  0.0    0.0  \n",
      "3  0.0  0.0  0.0      0.0  0.0  0.0    0.0  \n",
      "4  0.0  0.0  0.0      0.0  0.0  0.0    0.0  \n",
      "\n",
      "[5 rows x 5000 columns]\n"
     ]
    }
   ],
   "source": [
    "# Display the TF-IDF matrix\n",
    "print(\"\\nTF-IDF matrix:\")\n",
    "print(tfidf_df.head())"
   ]
  },
  {
   "cell_type": "code",
   "execution_count": 14,
   "id": "f243c4dc-37e3-455d-9391-b149008a35c6",
   "metadata": {},
   "outputs": [
    {
     "name": "stdout",
     "output_type": "stream",
     "text": [
      "\n",
      "Training set shape: (10490, 5000) (10490,)\n",
      "Testing set shape: (2623, 5000) (2623,)\n"
     ]
    }
   ],
   "source": [
    "# Split the data into training and testing sets\n",
    "X_train, X_test, y_train, y_test = train_test_split(tfidf_features, data['sentiment'], test_size=0.2, random_state=42)\n",
    "\n",
    "# Display the shapes of the training and testing sets\n",
    "print(\"\\nTraining set shape:\", X_train.shape, y_train.shape)\n",
    "print(\"Testing set shape:\", X_test.shape, y_test.shape)"
   ]
  },
  {
   "cell_type": "code",
   "execution_count": 15,
   "id": "72f4feeb-d92a-44a3-9a48-ee0c618e00d7",
   "metadata": {},
   "outputs": [],
   "source": [
    "# Initialize the Random Forest classifier\n",
    "rf_classifier = RandomForestClassifier(n_estimators=100, random_state=42)"
   ]
  },
  {
   "cell_type": "code",
   "execution_count": 16,
   "id": "2eb0b699-696a-4fbd-8737-8121a040a1a6",
   "metadata": {},
   "outputs": [
    {
     "data": {
      "text/html": [
       "<style>#sk-container-id-1 {color: black;background-color: white;}#sk-container-id-1 pre{padding: 0;}#sk-container-id-1 div.sk-toggleable {background-color: white;}#sk-container-id-1 label.sk-toggleable__label {cursor: pointer;display: block;width: 100%;margin-bottom: 0;padding: 0.3em;box-sizing: border-box;text-align: center;}#sk-container-id-1 label.sk-toggleable__label-arrow:before {content: \"▸\";float: left;margin-right: 0.25em;color: #696969;}#sk-container-id-1 label.sk-toggleable__label-arrow:hover:before {color: black;}#sk-container-id-1 div.sk-estimator:hover label.sk-toggleable__label-arrow:before {color: black;}#sk-container-id-1 div.sk-toggleable__content {max-height: 0;max-width: 0;overflow: hidden;text-align: left;background-color: #f0f8ff;}#sk-container-id-1 div.sk-toggleable__content pre {margin: 0.2em;color: black;border-radius: 0.25em;background-color: #f0f8ff;}#sk-container-id-1 input.sk-toggleable__control:checked~div.sk-toggleable__content {max-height: 200px;max-width: 100%;overflow: auto;}#sk-container-id-1 input.sk-toggleable__control:checked~label.sk-toggleable__label-arrow:before {content: \"▾\";}#sk-container-id-1 div.sk-estimator input.sk-toggleable__control:checked~label.sk-toggleable__label {background-color: #d4ebff;}#sk-container-id-1 div.sk-label input.sk-toggleable__control:checked~label.sk-toggleable__label {background-color: #d4ebff;}#sk-container-id-1 input.sk-hidden--visually {border: 0;clip: rect(1px 1px 1px 1px);clip: rect(1px, 1px, 1px, 1px);height: 1px;margin: -1px;overflow: hidden;padding: 0;position: absolute;width: 1px;}#sk-container-id-1 div.sk-estimator {font-family: monospace;background-color: #f0f8ff;border: 1px dotted black;border-radius: 0.25em;box-sizing: border-box;margin-bottom: 0.5em;}#sk-container-id-1 div.sk-estimator:hover {background-color: #d4ebff;}#sk-container-id-1 div.sk-parallel-item::after {content: \"\";width: 100%;border-bottom: 1px solid gray;flex-grow: 1;}#sk-container-id-1 div.sk-label:hover label.sk-toggleable__label {background-color: #d4ebff;}#sk-container-id-1 div.sk-serial::before {content: \"\";position: absolute;border-left: 1px solid gray;box-sizing: border-box;top: 0;bottom: 0;left: 50%;z-index: 0;}#sk-container-id-1 div.sk-serial {display: flex;flex-direction: column;align-items: center;background-color: white;padding-right: 0.2em;padding-left: 0.2em;position: relative;}#sk-container-id-1 div.sk-item {position: relative;z-index: 1;}#sk-container-id-1 div.sk-parallel {display: flex;align-items: stretch;justify-content: center;background-color: white;position: relative;}#sk-container-id-1 div.sk-item::before, #sk-container-id-1 div.sk-parallel-item::before {content: \"\";position: absolute;border-left: 1px solid gray;box-sizing: border-box;top: 0;bottom: 0;left: 50%;z-index: -1;}#sk-container-id-1 div.sk-parallel-item {display: flex;flex-direction: column;z-index: 1;position: relative;background-color: white;}#sk-container-id-1 div.sk-parallel-item:first-child::after {align-self: flex-end;width: 50%;}#sk-container-id-1 div.sk-parallel-item:last-child::after {align-self: flex-start;width: 50%;}#sk-container-id-1 div.sk-parallel-item:only-child::after {width: 0;}#sk-container-id-1 div.sk-dashed-wrapped {border: 1px dashed gray;margin: 0 0.4em 0.5em 0.4em;box-sizing: border-box;padding-bottom: 0.4em;background-color: white;}#sk-container-id-1 div.sk-label label {font-family: monospace;font-weight: bold;display: inline-block;line-height: 1.2em;}#sk-container-id-1 div.sk-label-container {text-align: center;}#sk-container-id-1 div.sk-container {/* jupyter's `normalize.less` sets `[hidden] { display: none; }` but bootstrap.min.css set `[hidden] { display: none !important; }` so we also need the `!important` here to be able to override the default hidden behavior on the sphinx rendered scikit-learn.org. See: https://github.com/scikit-learn/scikit-learn/issues/21755 */display: inline-block !important;position: relative;}#sk-container-id-1 div.sk-text-repr-fallback {display: none;}</style><div id=\"sk-container-id-1\" class=\"sk-top-container\"><div class=\"sk-text-repr-fallback\"><pre>RandomForestClassifier(random_state=42)</pre><b>In a Jupyter environment, please rerun this cell to show the HTML representation or trust the notebook. <br />On GitHub, the HTML representation is unable to render, please try loading this page with nbviewer.org.</b></div><div class=\"sk-container\" hidden><div class=\"sk-item\"><div class=\"sk-estimator sk-toggleable\"><input class=\"sk-toggleable__control sk-hidden--visually\" id=\"sk-estimator-id-1\" type=\"checkbox\" checked><label for=\"sk-estimator-id-1\" class=\"sk-toggleable__label sk-toggleable__label-arrow\">RandomForestClassifier</label><div class=\"sk-toggleable__content\"><pre>RandomForestClassifier(random_state=42)</pre></div></div></div></div></div>"
      ],
      "text/plain": [
       "RandomForestClassifier(random_state=42)"
      ]
     },
     "execution_count": 16,
     "metadata": {},
     "output_type": "execute_result"
    }
   ],
   "source": [
    "# Train the Random Forest classifier\n",
    "rf_classifier.fit(X_train, y_train)"
   ]
  },
  {
   "cell_type": "code",
   "execution_count": 17,
   "id": "77e25236-6d4d-4d56-8433-a6f73d46daba",
   "metadata": {},
   "outputs": [],
   "source": [
    "# Predictions on the testing set\n",
    "y_pred = rf_classifier.predict(X_test)"
   ]
  },
  {
   "cell_type": "code",
   "execution_count": 18,
   "id": "e8a479ed-94a6-421a-92c9-7a8e94330cc8",
   "metadata": {},
   "outputs": [
    {
     "name": "stdout",
     "output_type": "stream",
     "text": [
      "\n",
      "Accuracy: 0.776591688905833\n",
      "\n",
      "Classification Report:\n",
      "              precision    recall  f1-score   support\n",
      "\n",
      "    Negative       0.77      0.93      0.84      1705\n",
      "    Positive       0.79      0.49      0.61       918\n",
      "\n",
      "    accuracy                           0.78      2623\n",
      "   macro avg       0.78      0.71      0.72      2623\n",
      "weighted avg       0.78      0.78      0.76      2623\n",
      "\n"
     ]
    }
   ],
   "source": [
    "# Calculate accuracy\n",
    "accuracy = accuracy_score(y_test, y_pred)\n",
    "print(\"\\nAccuracy:\", accuracy)\n",
    "\n",
    "# Classification report\n",
    "print(\"\\nClassification Report:\")\n",
    "print(classification_report(y_test, y_pred))"
   ]
  },
  {
   "cell_type": "markdown",
   "id": "36202bd8-81cb-43d4-9c71-c30a39a72706",
   "metadata": {},
   "source": [
    "## Naive Bayes"
   ]
  },
  {
   "cell_type": "code",
   "execution_count": 19,
   "id": "9041cdbb-2e80-4bea-9cc6-709b5d70bb1d",
   "metadata": {},
   "outputs": [],
   "source": [
    "# Create TF-IDF vectorizer\n",
    "tfidf_vectorizer = TfidfVectorizer(max_features=5000)"
   ]
  },
  {
   "cell_type": "code",
   "execution_count": 20,
   "id": "f5e66327-a974-46a9-bd90-ead50e08982b",
   "metadata": {},
   "outputs": [],
   "source": [
    "# Apply TF-IDF vectorization to 'content' column\n",
    "tfidf_features = tfidf_vectorizer.fit_transform(data['content'])"
   ]
  },
  {
   "cell_type": "code",
   "execution_count": 21,
   "id": "75f0039b-f7cf-40fe-bfac-a00ed16ba685",
   "metadata": {},
   "outputs": [],
   "source": [
    "# Split the data into training and testing sets\n",
    "X_train, X_test, y_train, y_test = train_test_split(tfidf_features, data['sentiment'], test_size=0.2, random_state=42)"
   ]
  },
  {
   "cell_type": "code",
   "execution_count": 23,
   "id": "7108fe4f-81aa-4357-a3fb-0de9dd8eb4ca",
   "metadata": {},
   "outputs": [],
   "source": [
    "# Naive Bayes Classifier\n",
    "nb_classifier = MultinomialNB()\n",
    "nb_classifier.fit(X_train, y_train)\n",
    "nb_pred = nb_classifier.predict(X_test)\n",
    "nb_accuracy = accuracy_score(y_test, nb_pred)"
   ]
  },
  {
   "cell_type": "code",
   "execution_count": 25,
   "id": "a1f66dd6-4ccc-43a1-b6f9-5bc493173a7e",
   "metadata": {},
   "outputs": [
    {
     "name": "stdout",
     "output_type": "stream",
     "text": [
      "Naive Bayes Accuracy: 0.7483797178802898\n"
     ]
    }
   ],
   "source": [
    "print(\"Naive Bayes Accuracy:\", nb_accuracy)"
   ]
  },
  {
   "cell_type": "code",
   "execution_count": 26,
   "id": "e513318d-3d0e-45a6-ad63-70843c4f72e3",
   "metadata": {},
   "outputs": [
    {
     "name": "stdout",
     "output_type": "stream",
     "text": [
      "\n",
      "Classification Report:\n",
      "              precision    recall  f1-score   support\n",
      "\n",
      "    Negative       0.76      0.90      0.82      1705\n",
      "    Positive       0.72      0.46      0.56       918\n",
      "\n",
      "    accuracy                           0.75      2623\n",
      "   macro avg       0.74      0.68      0.69      2623\n",
      "weighted avg       0.74      0.75      0.73      2623\n",
      "\n"
     ]
    }
   ],
   "source": [
    "# Classification report\n",
    "print(\"\\nClassification Report:\")\n",
    "print(classification_report(y_test, nb_pred))"
   ]
  },
  {
   "cell_type": "code",
   "execution_count": 28,
   "id": "77ab3a30-80f8-4f77-9bd1-aa47e02bb5ee",
   "metadata": {},
   "outputs": [
    {
     "name": "stdout",
     "output_type": "stream",
     "text": [
      "\n",
      "Random Forest Confusion Matrix:\n",
      "[[1588  117]\n",
      " [ 469  449]]\n"
     ]
    },
    {
     "data": {
      "image/png": "[encoded data removed]",
      "text/plain": [
       "<Figure size 800x600 with 1 Axes>"
      ]
     },
     "metadata": {},
     "output_type": "display_data"
    }
   ],
   "source": [
    "# Compare the two models using confusion matrices\n",
    "print(\"\\nRandom Forest Confusion Matrix:\")\n",
    "print(confusion_matrix(y_test, rf_pred))\n",
    "conf_matrix = confusion_matrix(y_test, y_pred)\n",
    "plt.figure(figsize=(8, 6))\n",
    "sns.heatmap(conf_matrix, annot=True, fmt='d', cmap='Blues', cbar=False, \n",
    "            xticklabels=['Negative', 'Positive'], yticklabels=['Negative', 'Positive'])\n",
    "plt.xlabel('Predicted')\n",
    "plt.ylabel('Actual')\n",
    "plt.title('Confusion Matrix')\n",
    "plt.show()"
   ]
  },
  {
   "cell_type": "code",
   "execution_count": 30,
   "id": "b2480e9d-b1cc-4a7c-87a4-3b8f2362ea40",
   "metadata": {},
   "outputs": [
    {
     "name": "stdout",
     "output_type": "stream",
     "text": [
      "\n",
      "Naive Bayes Confusion Matrix:\n",
      "[[1538  167]\n",
      " [ 493  425]]\n"
     ]
    },
    {
     "data": {
      "image/png": "[encoded data removed]",
      "text/plain": [
       "<Figure size 800x600 with 1 Axes>"
      ]
     },
     "metadata": {},
     "output_type": "display_data"
    }
   ],
   "source": [
    "print(\"\\nNaive Bayes Confusion Matrix:\")\n",
    "print(confusion_matrix(y_test, nb_pred))\n",
    "conf_matrix = confusion_matrix(y_test, nb_pred)\n",
    "plt.figure(figsize=(8, 6))\n",
    "sns.heatmap(conf_matrix, annot=True, fmt='d', cmap='Greens', cbar=False, \n",
    "            xticklabels=['Negative', 'Positive'], yticklabels=['Negative', 'Positive'])\n",
    "plt.xlabel('Predicted')\n",
    "plt.ylabel('Actual')\n",
    "plt.title('Confusion Matrix')\n",
    "plt.show()"
   ]
  },
  {
   "cell_type": "code",
   "execution_count": 31,
   "id": "50796eaf-e429-4ff5-a185-64e10bee7ce3",
   "metadata": {},
   "outputs": [],
   "source": [
    "# Function to test user input sentiment with both models\n",
    "def test_user_input_sentiment(input_text):\n",
    "    preprocessed_input = tfidf_vectorizer.transform([input_text])\n",
    "    rf_predicted_sentiment = rf_classifier.predict(preprocessed_input)\n",
    "    nb_predicted_sentiment = nb_classifier.predict(preprocessed_input)\n",
    "    return rf_predicted_sentiment[0], nb_predicted_sentiment[0]"
   ]
  },
  {
   "cell_type": "code",
   "execution_count": 32,
   "id": "accb7f7d-1f77-4294-9624-f7b78928133e",
   "metadata": {},
   "outputs": [
    {
     "name": "stdin",
     "output_type": "stream",
     "text": [
      "Enter your review:  worst app ever\n"
     ]
    },
    {
     "name": "stdout",
     "output_type": "stream",
     "text": [
      "\n",
      "Predicted Sentiment (Random Forest): Negative\n",
      "Predicted Sentiment (Naive Bayes): Negative\n"
     ]
    }
   ],
   "source": [
    "# Test user input sentiment with both models\n",
    "user_input = input(\"Enter your review: \")\n",
    "rf_predicted_sentiment, nb_predicted_sentiment = test_user_input_sentiment(user_input)\n",
    "\n",
    "print(\"\\nPredicted Sentiment (Random Forest):\", rf_predicted_sentiment)\n",
    "print(\"Predicted Sentiment (Naive Bayes):\", nb_predicted_sentiment)"
   ]
  },
  {
   "cell_type": "code",
   "execution_count": 33,
   "id": "eb1fb22d-3813-453e-8dc3-cfe043054928",
   "metadata": {},
   "outputs": [],
   "source": [
    "# Hybrid Algorithm\n",
    "def hybrid_algorithm(input_text):\n",
    "    preprocessed_input = tfidf_vectorizer.transform([input_text])\n",
    "    rf_prediction = rf_classifier.predict(preprocessed_input)\n",
    "    nb_prediction = nb_classifier.predict(preprocessed_input)\n",
    "    if rf_prediction == nb_prediction:\n",
    "        return rf_prediction[0]\n",
    "    else:\n",
    "        return \"Hybrid Algorithm: Undetermined\""
   ]
  },
  {
   "cell_type": "code",
   "execution_count": 44,
   "id": "0e22fe10-3a64-4967-bb8e-69e47022bf1d",
   "metadata": {},
   "outputs": [
    {
     "name": "stdout",
     "output_type": "stream",
     "text": [
      "Input Text: It won't allow my son to log on through his phone. Asking for email verification by inputting password (which we did correctly), cycles as if its loading, then takes me back to the home page without logging him in.\n",
      "Hybrid Prediction: Negative\n"
     ]
    }
   ],
   "source": [
    "# Test the hybrid algorithm for a single input\n",
    "test_input = X_test.iloc[30]  # Assuming X_test_text contains the original text data\n",
    "print(\"Input Text:\", test_input)\n",
    "hybrid_prediction = hybrid_algorithm(test_input)\n",
    "print(\"Hybrid Prediction:\", hybrid_prediction)"
   ]
  },
  {
   "cell_type": "code",
   "execution_count": 45,
   "id": "e83e24ac-3854-484e-8f2c-098c832af02c",
   "metadata": {},
   "outputs": [],
   "source": [
    "# Shuffle the data and reset indices\n",
    "data_shuffled = shuffle(data, random_state=42).reset_index(drop=True)\n",
    "\n",
    "# Split the data into training and testing sets\n",
    "X_train, X_test, y_train, y_test = train_test_split(data_shuffled['content'], data_shuffled['sentiment'], test_size=0.2, random_state=42)\n",
    "\n",
    "# Function to calculate hybrid algorithm accuracy\n",
    "def calculate_hybrid_accuracy(X_test, y_test):\n",
    "    correct_predictions = 0\n",
    "    total_predictions = len(X_test)\n",
    "    for i in range(total_predictions):\n",
    "        input_text = X_test.iloc[i]  # Access data using iloc\n",
    "        true_label = y_test.iloc[i]  # Access data using iloc\n",
    "        hybrid_predicted_sentiment = hybrid_algorithm(input_text)\n",
    "        \n",
    "        if hybrid_predicted_sentiment == true_label:\n",
    "            correct_predictions += 1\n",
    "    \n",
    "    hybrid_accuracy = correct_predictions / total_predictions\n",
    "    return hybrid_accuracy"
   ]
  },
  {
   "cell_type": "code",
   "execution_count": 46,
   "id": "5dbc9886-1a03-47ae-8fe1-eb627b198d78",
   "metadata": {},
   "outputs": [
    {
     "name": "stdout",
     "output_type": "stream",
     "text": [
      "\n",
      "Hybrid Algorithm Accuracy: 0.764391917651544\n"
     ]
    }
   ],
   "source": [
    " # Calculate hybrid algorithm accuracy\n",
    "hybrid_accuracy = calculate_hybrid_accuracy(X_test, y_test)\n",
    "print(\"\\nHybrid Algorithm Accuracy:\", hybrid_accuracy)"
   ]
  },
  {
   "cell_type": "code",
   "execution_count": null,
   "id": "2d9e3f62-120d-4861-8c6d-3b3e125df1a3",
   "metadata": {},
   "outputs": [],
   "source": []
  }
 ],
 "metadata": {
  "kernelspec": {
   "display_name": "Python 3 (ipykernel)",
   "language": "python",
   "name": "python3"
  },
  "language_info": {
   "codemirror_mode": {
    "name": "ipython",
    "version": 3
   },
   "file_extension": ".py",
   "mimetype": "text/x-python",
   "name": "python",
   "nbconvert_exporter": "python",
   "pygments_lexer": "ipython3",
   "version": "3.11.7"
  }
 },
 "nbformat": 4,
 "nbformat_minor": 5
}
